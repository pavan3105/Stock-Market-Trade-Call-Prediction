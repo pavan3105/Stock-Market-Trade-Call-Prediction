{
 "cells": [
  {
   "cell_type": "markdown",
   "metadata": {},
   "source": [
    "# Stock Market Trade Call Prediction"
   ]
  },
  {
   "cell_type": "markdown",
   "metadata": {},
   "source": [
    "* Analysing stock data of HDFC bank and building a machine learning model for predicting the trade calls based on bollinger bands concept."
   ]
  },
  {
   "cell_type": "markdown",
   "metadata": {},
   "source": [
    "**First let's import all the necessary python modules**"
   ]
  },
  {
   "cell_type": "code",
   "execution_count": 1,
   "metadata": {},
   "outputs": [],
   "source": [
    "import numpy as np\n",
    "import pandas as pd\n",
    "import matplotlib.pyplot as plt\n",
    "%matplotlib inline\n"
   ]
  },
  {
   "cell_type": "markdown",
   "metadata": {},
   "source": [
    "**Now let's read the data and perform some EDA steps**"
   ]
  },
  {
   "cell_type": "code",
   "execution_count": 2,
   "metadata": {},
   "outputs": [],
   "source": [
    "infy_=pd.read_csv('HDFCBANK.NS (1).csv')"
   ]
  },
  {
   "cell_type": "code",
   "execution_count": 3,
   "metadata": {},
   "outputs": [
    {
     "data": {
      "text/html": [
       "<div>\n",
       "<style scoped>\n",
       "    .dataframe tbody tr th:only-of-type {\n",
       "        vertical-align: middle;\n",
       "    }\n",
       "\n",
       "    .dataframe tbody tr th {\n",
       "        vertical-align: top;\n",
       "    }\n",
       "\n",
       "    .dataframe thead th {\n",
       "        text-align: right;\n",
       "    }\n",
       "</style>\n",
       "<table border=\"1\" class=\"dataframe\">\n",
       "  <thead>\n",
       "    <tr style=\"text-align: right;\">\n",
       "      <th></th>\n",
       "      <th>Date</th>\n",
       "      <th>Open</th>\n",
       "      <th>High</th>\n",
       "      <th>Low</th>\n",
       "      <th>Close Price</th>\n",
       "      <th>Adj Close</th>\n",
       "      <th>Volume</th>\n",
       "    </tr>\n",
       "  </thead>\n",
       "  <tbody>\n",
       "    <tr>\n",
       "      <th>0</th>\n",
       "      <td>15-05-2017</td>\n",
       "      <td>775.000000</td>\n",
       "      <td>778.599976</td>\n",
       "      <td>771.125000</td>\n",
       "      <td>776.700012</td>\n",
       "      <td>760.248596</td>\n",
       "      <td>1402390.0</td>\n",
       "    </tr>\n",
       "    <tr>\n",
       "      <th>1</th>\n",
       "      <td>16-05-2017</td>\n",
       "      <td>777.500000</td>\n",
       "      <td>781.000000</td>\n",
       "      <td>774.125000</td>\n",
       "      <td>779.825012</td>\n",
       "      <td>763.307373</td>\n",
       "      <td>1795188.0</td>\n",
       "    </tr>\n",
       "    <tr>\n",
       "      <th>2</th>\n",
       "      <td>17-05-2017</td>\n",
       "      <td>779.400024</td>\n",
       "      <td>782.700012</td>\n",
       "      <td>775.750000</td>\n",
       "      <td>778.575012</td>\n",
       "      <td>762.083923</td>\n",
       "      <td>1736236.0</td>\n",
       "    </tr>\n",
       "    <tr>\n",
       "      <th>3</th>\n",
       "      <td>18-05-2017</td>\n",
       "      <td>774.500000</td>\n",
       "      <td>780.750000</td>\n",
       "      <td>774.049988</td>\n",
       "      <td>778.549988</td>\n",
       "      <td>762.059326</td>\n",
       "      <td>1553640.0</td>\n",
       "    </tr>\n",
       "    <tr>\n",
       "      <th>4</th>\n",
       "      <td>19-05-2017</td>\n",
       "      <td>779.750000</td>\n",
       "      <td>784.950012</td>\n",
       "      <td>772.625000</td>\n",
       "      <td>780.625000</td>\n",
       "      <td>764.090393</td>\n",
       "      <td>1427068.0</td>\n",
       "    </tr>\n",
       "    <tr>\n",
       "      <th>...</th>\n",
       "      <td>...</td>\n",
       "      <td>...</td>\n",
       "      <td>...</td>\n",
       "      <td>...</td>\n",
       "      <td>...</td>\n",
       "      <td>...</td>\n",
       "      <td>...</td>\n",
       "    </tr>\n",
       "    <tr>\n",
       "      <th>800</th>\n",
       "      <td>12-08-2020</td>\n",
       "      <td>1065.000000</td>\n",
       "      <td>1066.000000</td>\n",
       "      <td>1048.000000</td>\n",
       "      <td>1063.699951</td>\n",
       "      <td>1063.699951</td>\n",
       "      <td>10333216.0</td>\n",
       "    </tr>\n",
       "    <tr>\n",
       "      <th>801</th>\n",
       "      <td>13-08-2020</td>\n",
       "      <td>1067.949951</td>\n",
       "      <td>1071.349976</td>\n",
       "      <td>1056.500000</td>\n",
       "      <td>1059.050049</td>\n",
       "      <td>1059.050049</td>\n",
       "      <td>9946370.0</td>\n",
       "    </tr>\n",
       "    <tr>\n",
       "      <th>802</th>\n",
       "      <td>14-08-2020</td>\n",
       "      <td>1065.900024</td>\n",
       "      <td>1065.900024</td>\n",
       "      <td>1027.300049</td>\n",
       "      <td>1034.449951</td>\n",
       "      <td>1034.449951</td>\n",
       "      <td>10462256.0</td>\n",
       "    </tr>\n",
       "    <tr>\n",
       "      <th>803</th>\n",
       "      <td>17-08-2020</td>\n",
       "      <td>1047.000000</td>\n",
       "      <td>1047.000000</td>\n",
       "      <td>1020.200012</td>\n",
       "      <td>1032.750000</td>\n",
       "      <td>1032.750000</td>\n",
       "      <td>9780506.0</td>\n",
       "    </tr>\n",
       "    <tr>\n",
       "      <th>804</th>\n",
       "      <td>18-08-2020</td>\n",
       "      <td>1028.000000</td>\n",
       "      <td>1061.650024</td>\n",
       "      <td>1022.000000</td>\n",
       "      <td>1056.500000</td>\n",
       "      <td>1056.500000</td>\n",
       "      <td>12020412.0</td>\n",
       "    </tr>\n",
       "  </tbody>\n",
       "</table>\n",
       "<p>805 rows × 7 columns</p>\n",
       "</div>"
      ],
      "text/plain": [
       "           Date         Open         High          Low  Close Price  \\\n",
       "0    15-05-2017   775.000000   778.599976   771.125000   776.700012   \n",
       "1    16-05-2017   777.500000   781.000000   774.125000   779.825012   \n",
       "2    17-05-2017   779.400024   782.700012   775.750000   778.575012   \n",
       "3    18-05-2017   774.500000   780.750000   774.049988   778.549988   \n",
       "4    19-05-2017   779.750000   784.950012   772.625000   780.625000   \n",
       "..          ...          ...          ...          ...          ...   \n",
       "800  12-08-2020  1065.000000  1066.000000  1048.000000  1063.699951   \n",
       "801  13-08-2020  1067.949951  1071.349976  1056.500000  1059.050049   \n",
       "802  14-08-2020  1065.900024  1065.900024  1027.300049  1034.449951   \n",
       "803  17-08-2020  1047.000000  1047.000000  1020.200012  1032.750000   \n",
       "804  18-08-2020  1028.000000  1061.650024  1022.000000  1056.500000   \n",
       "\n",
       "       Adj Close      Volume  \n",
       "0     760.248596   1402390.0  \n",
       "1     763.307373   1795188.0  \n",
       "2     762.083923   1736236.0  \n",
       "3     762.059326   1553640.0  \n",
       "4     764.090393   1427068.0  \n",
       "..           ...         ...  \n",
       "800  1063.699951  10333216.0  \n",
       "801  1059.050049   9946370.0  \n",
       "802  1034.449951  10462256.0  \n",
       "803  1032.750000   9780506.0  \n",
       "804  1056.500000  12020412.0  \n",
       "\n",
       "[805 rows x 7 columns]"
      ]
     },
     "execution_count": 3,
     "metadata": {},
     "output_type": "execute_result"
    }
   ],
   "source": [
    "infy_"
   ]
  },
  {
   "cell_type": "code",
   "execution_count": 4,
   "metadata": {
    "scrolled": true
   },
   "outputs": [
    {
     "name": "stdout",
     "output_type": "stream",
     "text": [
      "<class 'pandas.core.frame.DataFrame'>\n",
      "RangeIndex: 805 entries, 0 to 804\n",
      "Data columns (total 7 columns):\n",
      " #   Column       Non-Null Count  Dtype  \n",
      "---  ------       --------------  -----  \n",
      " 0   Date         805 non-null    object \n",
      " 1   Open         804 non-null    float64\n",
      " 2   High         804 non-null    float64\n",
      " 3   Low          804 non-null    float64\n",
      " 4   Close Price  804 non-null    float64\n",
      " 5   Adj Close    804 non-null    float64\n",
      " 6   Volume       804 non-null    float64\n",
      "dtypes: float64(6), object(1)\n",
      "memory usage: 44.1+ KB\n"
     ]
    }
   ],
   "source": [
    "infy_.info()"
   ]
  },
  {
   "cell_type": "code",
   "execution_count": 5,
   "metadata": {},
   "outputs": [
    {
     "data": {
      "text/html": [
       "<div>\n",
       "<style scoped>\n",
       "    .dataframe tbody tr th:only-of-type {\n",
       "        vertical-align: middle;\n",
       "    }\n",
       "\n",
       "    .dataframe tbody tr th {\n",
       "        vertical-align: top;\n",
       "    }\n",
       "\n",
       "    .dataframe thead th {\n",
       "        text-align: right;\n",
       "    }\n",
       "</style>\n",
       "<table border=\"1\" class=\"dataframe\">\n",
       "  <thead>\n",
       "    <tr style=\"text-align: right;\">\n",
       "      <th></th>\n",
       "      <th>Open</th>\n",
       "      <th>High</th>\n",
       "      <th>Low</th>\n",
       "      <th>Close Price</th>\n",
       "      <th>Adj Close</th>\n",
       "      <th>Volume</th>\n",
       "    </tr>\n",
       "  </thead>\n",
       "  <tbody>\n",
       "    <tr>\n",
       "      <th>count</th>\n",
       "      <td>804.000000</td>\n",
       "      <td>804.000000</td>\n",
       "      <td>804.000000</td>\n",
       "      <td>804.000000</td>\n",
       "      <td>804.000000</td>\n",
       "      <td>8.040000e+02</td>\n",
       "    </tr>\n",
       "    <tr>\n",
       "      <th>mean</th>\n",
       "      <td>1038.166380</td>\n",
       "      <td>1047.273008</td>\n",
       "      <td>1027.619934</td>\n",
       "      <td>1037.452916</td>\n",
       "      <td>1029.932716</td>\n",
       "      <td>7.146057e+06</td>\n",
       "    </tr>\n",
       "    <tr>\n",
       "      <th>std</th>\n",
       "      <td>130.022965</td>\n",
       "      <td>129.623812</td>\n",
       "      <td>129.189218</td>\n",
       "      <td>129.195180</td>\n",
       "      <td>132.842092</td>\n",
       "      <td>6.804195e+06</td>\n",
       "    </tr>\n",
       "    <tr>\n",
       "      <th>min</th>\n",
       "      <td>770.450012</td>\n",
       "      <td>778.599976</td>\n",
       "      <td>738.750000</td>\n",
       "      <td>767.700012</td>\n",
       "      <td>760.248596</td>\n",
       "      <td>2.850040e+05</td>\n",
       "    </tr>\n",
       "    <tr>\n",
       "      <th>25%</th>\n",
       "      <td>932.362503</td>\n",
       "      <td>939.987503</td>\n",
       "      <td>923.943756</td>\n",
       "      <td>931.549988</td>\n",
       "      <td>919.903473</td>\n",
       "      <td>3.031632e+06</td>\n",
       "    </tr>\n",
       "    <tr>\n",
       "      <th>50%</th>\n",
       "      <td>1034.649964</td>\n",
       "      <td>1044.640015</td>\n",
       "      <td>1020.489990</td>\n",
       "      <td>1032.625000</td>\n",
       "      <td>1027.739563</td>\n",
       "      <td>4.944403e+06</td>\n",
       "    </tr>\n",
       "    <tr>\n",
       "      <th>75%</th>\n",
       "      <td>1128.785004</td>\n",
       "      <td>1142.850006</td>\n",
       "      <td>1120.627472</td>\n",
       "      <td>1131.727478</td>\n",
       "      <td>1128.184570</td>\n",
       "      <td>8.344990e+06</td>\n",
       "    </tr>\n",
       "    <tr>\n",
       "      <th>max</th>\n",
       "      <td>1305.000000</td>\n",
       "      <td>1305.500000</td>\n",
       "      <td>1288.800049</td>\n",
       "      <td>1302.400024</td>\n",
       "      <td>1302.400024</td>\n",
       "      <td>5.406435e+07</td>\n",
       "    </tr>\n",
       "  </tbody>\n",
       "</table>\n",
       "</div>"
      ],
      "text/plain": [
       "              Open         High          Low  Close Price    Adj Close  \\\n",
       "count   804.000000   804.000000   804.000000   804.000000   804.000000   \n",
       "mean   1038.166380  1047.273008  1027.619934  1037.452916  1029.932716   \n",
       "std     130.022965   129.623812   129.189218   129.195180   132.842092   \n",
       "min     770.450012   778.599976   738.750000   767.700012   760.248596   \n",
       "25%     932.362503   939.987503   923.943756   931.549988   919.903473   \n",
       "50%    1034.649964  1044.640015  1020.489990  1032.625000  1027.739563   \n",
       "75%    1128.785004  1142.850006  1120.627472  1131.727478  1128.184570   \n",
       "max    1305.000000  1305.500000  1288.800049  1302.400024  1302.400024   \n",
       "\n",
       "             Volume  \n",
       "count  8.040000e+02  \n",
       "mean   7.146057e+06  \n",
       "std    6.804195e+06  \n",
       "min    2.850040e+05  \n",
       "25%    3.031632e+06  \n",
       "50%    4.944403e+06  \n",
       "75%    8.344990e+06  \n",
       "max    5.406435e+07  "
      ]
     },
     "execution_count": 5,
     "metadata": {},
     "output_type": "execute_result"
    }
   ],
   "source": [
    "infy_.describe()"
   ]
  },
  {
   "cell_type": "code",
   "execution_count": 6,
   "metadata": {},
   "outputs": [],
   "source": [
    "infy_['index']=range(0,805)\n"
   ]
  },
  {
   "cell_type": "code",
   "execution_count": 7,
   "metadata": {
    "scrolled": true
   },
   "outputs": [
    {
     "data": {
      "text/plain": [
       "603    603\n",
       "Name: index, dtype: int32"
      ]
     },
     "execution_count": 7,
     "metadata": {},
     "output_type": "execute_result"
    }
   ],
   "source": [
    "infy_[infy_['Open'].isnull()]['index']\n"
   ]
  },
  {
   "cell_type": "code",
   "execution_count": 8,
   "metadata": {},
   "outputs": [],
   "source": [
    "infy_.drop(infy_[infy_['index']== 603]['index'], inplace=True)"
   ]
  },
  {
   "cell_type": "code",
   "execution_count": 9,
   "metadata": {},
   "outputs": [
    {
     "name": "stdout",
     "output_type": "stream",
     "text": [
      "<class 'pandas.core.frame.DataFrame'>\n",
      "Int64Index: 804 entries, 0 to 804\n",
      "Data columns (total 8 columns):\n",
      " #   Column       Non-Null Count  Dtype  \n",
      "---  ------       --------------  -----  \n",
      " 0   Date         804 non-null    object \n",
      " 1   Open         804 non-null    float64\n",
      " 2   High         804 non-null    float64\n",
      " 3   Low          804 non-null    float64\n",
      " 4   Close Price  804 non-null    float64\n",
      " 5   Adj Close    804 non-null    float64\n",
      " 6   Volume       804 non-null    float64\n",
      " 7   index        804 non-null    int32  \n",
      "dtypes: float64(6), int32(1), object(1)\n",
      "memory usage: 53.4+ KB\n"
     ]
    }
   ],
   "source": [
    "infy_.info()\n"
   ]
  },
  {
   "cell_type": "code",
   "execution_count": 10,
   "metadata": {},
   "outputs": [
    {
     "data": {
      "text/html": [
       "<div>\n",
       "<style scoped>\n",
       "    .dataframe tbody tr th:only-of-type {\n",
       "        vertical-align: middle;\n",
       "    }\n",
       "\n",
       "    .dataframe tbody tr th {\n",
       "        vertical-align: top;\n",
       "    }\n",
       "\n",
       "    .dataframe thead th {\n",
       "        text-align: right;\n",
       "    }\n",
       "</style>\n",
       "<table border=\"1\" class=\"dataframe\">\n",
       "  <thead>\n",
       "    <tr style=\"text-align: right;\">\n",
       "      <th></th>\n",
       "      <th>count</th>\n",
       "      <th>mean</th>\n",
       "      <th>std</th>\n",
       "      <th>min</th>\n",
       "      <th>25%</th>\n",
       "      <th>50%</th>\n",
       "      <th>75%</th>\n",
       "      <th>max</th>\n",
       "    </tr>\n",
       "  </thead>\n",
       "  <tbody>\n",
       "    <tr>\n",
       "      <th>Open</th>\n",
       "      <td>804.0</td>\n",
       "      <td>1.038166e+03</td>\n",
       "      <td>1.300230e+02</td>\n",
       "      <td>770.450012</td>\n",
       "      <td>9.323625e+02</td>\n",
       "      <td>1.034650e+03</td>\n",
       "      <td>1.128785e+03</td>\n",
       "      <td>1.305000e+03</td>\n",
       "    </tr>\n",
       "    <tr>\n",
       "      <th>High</th>\n",
       "      <td>804.0</td>\n",
       "      <td>1.047273e+03</td>\n",
       "      <td>1.296238e+02</td>\n",
       "      <td>778.599976</td>\n",
       "      <td>9.399875e+02</td>\n",
       "      <td>1.044640e+03</td>\n",
       "      <td>1.142850e+03</td>\n",
       "      <td>1.305500e+03</td>\n",
       "    </tr>\n",
       "    <tr>\n",
       "      <th>Low</th>\n",
       "      <td>804.0</td>\n",
       "      <td>1.027620e+03</td>\n",
       "      <td>1.291892e+02</td>\n",
       "      <td>738.750000</td>\n",
       "      <td>9.239438e+02</td>\n",
       "      <td>1.020490e+03</td>\n",
       "      <td>1.120627e+03</td>\n",
       "      <td>1.288800e+03</td>\n",
       "    </tr>\n",
       "    <tr>\n",
       "      <th>Close Price</th>\n",
       "      <td>804.0</td>\n",
       "      <td>1.037453e+03</td>\n",
       "      <td>1.291952e+02</td>\n",
       "      <td>767.700012</td>\n",
       "      <td>9.315500e+02</td>\n",
       "      <td>1.032625e+03</td>\n",
       "      <td>1.131727e+03</td>\n",
       "      <td>1.302400e+03</td>\n",
       "    </tr>\n",
       "    <tr>\n",
       "      <th>Adj Close</th>\n",
       "      <td>804.0</td>\n",
       "      <td>1.029933e+03</td>\n",
       "      <td>1.328421e+02</td>\n",
       "      <td>760.248596</td>\n",
       "      <td>9.199035e+02</td>\n",
       "      <td>1.027740e+03</td>\n",
       "      <td>1.128185e+03</td>\n",
       "      <td>1.302400e+03</td>\n",
       "    </tr>\n",
       "    <tr>\n",
       "      <th>Volume</th>\n",
       "      <td>804.0</td>\n",
       "      <td>7.146057e+06</td>\n",
       "      <td>6.804195e+06</td>\n",
       "      <td>285004.000000</td>\n",
       "      <td>3.031632e+06</td>\n",
       "      <td>4.944403e+06</td>\n",
       "      <td>8.344990e+06</td>\n",
       "      <td>5.406435e+07</td>\n",
       "    </tr>\n",
       "    <tr>\n",
       "      <th>index</th>\n",
       "      <td>804.0</td>\n",
       "      <td>4.017500e+02</td>\n",
       "      <td>2.325642e+02</td>\n",
       "      <td>0.000000</td>\n",
       "      <td>2.007500e+02</td>\n",
       "      <td>4.015000e+02</td>\n",
       "      <td>6.025000e+02</td>\n",
       "      <td>8.040000e+02</td>\n",
       "    </tr>\n",
       "  </tbody>\n",
       "</table>\n",
       "</div>"
      ],
      "text/plain": [
       "             count          mean           std            min           25%  \\\n",
       "Open         804.0  1.038166e+03  1.300230e+02     770.450012  9.323625e+02   \n",
       "High         804.0  1.047273e+03  1.296238e+02     778.599976  9.399875e+02   \n",
       "Low          804.0  1.027620e+03  1.291892e+02     738.750000  9.239438e+02   \n",
       "Close Price  804.0  1.037453e+03  1.291952e+02     767.700012  9.315500e+02   \n",
       "Adj Close    804.0  1.029933e+03  1.328421e+02     760.248596  9.199035e+02   \n",
       "Volume       804.0  7.146057e+06  6.804195e+06  285004.000000  3.031632e+06   \n",
       "index        804.0  4.017500e+02  2.325642e+02       0.000000  2.007500e+02   \n",
       "\n",
       "                      50%           75%           max  \n",
       "Open         1.034650e+03  1.128785e+03  1.305000e+03  \n",
       "High         1.044640e+03  1.142850e+03  1.305500e+03  \n",
       "Low          1.020490e+03  1.120627e+03  1.288800e+03  \n",
       "Close Price  1.032625e+03  1.131727e+03  1.302400e+03  \n",
       "Adj Close    1.027740e+03  1.128185e+03  1.302400e+03  \n",
       "Volume       4.944403e+06  8.344990e+06  5.406435e+07  \n",
       "index        4.015000e+02  6.025000e+02  8.040000e+02  "
      ]
     },
     "execution_count": 10,
     "metadata": {},
     "output_type": "execute_result"
    }
   ],
   "source": [
    "infy_.describe().T"
   ]
  },
  {
   "cell_type": "markdown",
   "metadata": {},
   "source": []
  },
  {
   "cell_type": "markdown",
   "metadata": {},
   "source": []
  },
  {
   "cell_type": "code",
   "execution_count": 11,
   "metadata": {},
   "outputs": [],
   "source": [
    "rolling_14=infy_['Close Price'].rolling(14).mean()"
   ]
  },
  {
   "cell_type": "code",
   "execution_count": 12,
   "metadata": {},
   "outputs": [],
   "source": [
    "std_14=infy_['Close Price'].rolling(14).std()"
   ]
  },
  {
   "cell_type": "code",
   "execution_count": 13,
   "metadata": {},
   "outputs": [],
   "source": [
    "infy_['Upper_band']=rolling_14+2*std_14"
   ]
  },
  {
   "cell_type": "code",
   "execution_count": 14,
   "metadata": {},
   "outputs": [],
   "source": [
    "infy_['Lower_band']=rolling_14-2*std_14"
   ]
  },
  {
   "cell_type": "code",
   "execution_count": 15,
   "metadata": {},
   "outputs": [],
   "source": [
    "infy_['rolling_14']=rolling_14"
   ]
  },
  {
   "cell_type": "code",
   "execution_count": 16,
   "metadata": {},
   "outputs": [
    {
     "data": {
      "text/plain": [
       "False    791\n",
       "True      13\n",
       "Name: rolling_14, dtype: int64"
      ]
     },
     "execution_count": 16,
     "metadata": {},
     "output_type": "execute_result"
    }
   ],
   "source": [
    "infy_.rolling_14.isnull().value_counts()"
   ]
  },
  {
   "cell_type": "code",
   "execution_count": 17,
   "metadata": {
    "scrolled": true
   },
   "outputs": [
    {
     "data": {
      "text/plain": [
       "False    791\n",
       "True      13\n",
       "Name: Upper_band, dtype: int64"
      ]
     },
     "execution_count": 17,
     "metadata": {},
     "output_type": "execute_result"
    }
   ],
   "source": [
    "infy_.Upper_band.isnull().value_counts()"
   ]
  },
  {
   "cell_type": "code",
   "execution_count": 18,
   "metadata": {},
   "outputs": [
    {
     "data": {
      "text/plain": [
       "False    791\n",
       "True      13\n",
       "Name: Lower_band, dtype: int64"
      ]
     },
     "execution_count": 18,
     "metadata": {},
     "output_type": "execute_result"
    }
   ],
   "source": [
    "infy_.Lower_band.isnull().value_counts()"
   ]
  },
  {
   "cell_type": "code",
   "execution_count": 19,
   "metadata": {},
   "outputs": [
    {
     "data": {
      "text/html": [
       "<div>\n",
       "<style scoped>\n",
       "    .dataframe tbody tr th:only-of-type {\n",
       "        vertical-align: middle;\n",
       "    }\n",
       "\n",
       "    .dataframe tbody tr th {\n",
       "        vertical-align: top;\n",
       "    }\n",
       "\n",
       "    .dataframe thead th {\n",
       "        text-align: right;\n",
       "    }\n",
       "</style>\n",
       "<table border=\"1\" class=\"dataframe\">\n",
       "  <thead>\n",
       "    <tr style=\"text-align: right;\">\n",
       "      <th></th>\n",
       "      <th>0</th>\n",
       "      <th>1</th>\n",
       "      <th>2</th>\n",
       "      <th>3</th>\n",
       "      <th>4</th>\n",
       "    </tr>\n",
       "  </thead>\n",
       "  <tbody>\n",
       "    <tr>\n",
       "      <th>Date</th>\n",
       "      <td>15-05-2017</td>\n",
       "      <td>16-05-2017</td>\n",
       "      <td>17-05-2017</td>\n",
       "      <td>18-05-2017</td>\n",
       "      <td>19-05-2017</td>\n",
       "    </tr>\n",
       "    <tr>\n",
       "      <th>Open</th>\n",
       "      <td>775</td>\n",
       "      <td>777.5</td>\n",
       "      <td>779.4</td>\n",
       "      <td>774.5</td>\n",
       "      <td>779.75</td>\n",
       "    </tr>\n",
       "    <tr>\n",
       "      <th>High</th>\n",
       "      <td>778.6</td>\n",
       "      <td>781</td>\n",
       "      <td>782.7</td>\n",
       "      <td>780.75</td>\n",
       "      <td>784.95</td>\n",
       "    </tr>\n",
       "    <tr>\n",
       "      <th>Low</th>\n",
       "      <td>771.125</td>\n",
       "      <td>774.125</td>\n",
       "      <td>775.75</td>\n",
       "      <td>774.05</td>\n",
       "      <td>772.625</td>\n",
       "    </tr>\n",
       "    <tr>\n",
       "      <th>Close Price</th>\n",
       "      <td>776.7</td>\n",
       "      <td>779.825</td>\n",
       "      <td>778.575</td>\n",
       "      <td>778.55</td>\n",
       "      <td>780.625</td>\n",
       "    </tr>\n",
       "    <tr>\n",
       "      <th>Adj Close</th>\n",
       "      <td>760.249</td>\n",
       "      <td>763.307</td>\n",
       "      <td>762.084</td>\n",
       "      <td>762.059</td>\n",
       "      <td>764.09</td>\n",
       "    </tr>\n",
       "    <tr>\n",
       "      <th>Volume</th>\n",
       "      <td>1.40239e+06</td>\n",
       "      <td>1.79519e+06</td>\n",
       "      <td>1.73624e+06</td>\n",
       "      <td>1.55364e+06</td>\n",
       "      <td>1.42707e+06</td>\n",
       "    </tr>\n",
       "    <tr>\n",
       "      <th>index</th>\n",
       "      <td>0</td>\n",
       "      <td>1</td>\n",
       "      <td>2</td>\n",
       "      <td>3</td>\n",
       "      <td>4</td>\n",
       "    </tr>\n",
       "    <tr>\n",
       "      <th>Upper_band</th>\n",
       "      <td>NaN</td>\n",
       "      <td>NaN</td>\n",
       "      <td>NaN</td>\n",
       "      <td>NaN</td>\n",
       "      <td>NaN</td>\n",
       "    </tr>\n",
       "    <tr>\n",
       "      <th>Lower_band</th>\n",
       "      <td>NaN</td>\n",
       "      <td>NaN</td>\n",
       "      <td>NaN</td>\n",
       "      <td>NaN</td>\n",
       "      <td>NaN</td>\n",
       "    </tr>\n",
       "    <tr>\n",
       "      <th>rolling_14</th>\n",
       "      <td>NaN</td>\n",
       "      <td>NaN</td>\n",
       "      <td>NaN</td>\n",
       "      <td>NaN</td>\n",
       "      <td>NaN</td>\n",
       "    </tr>\n",
       "  </tbody>\n",
       "</table>\n",
       "</div>"
      ],
      "text/plain": [
       "                       0            1            2            3            4\n",
       "Date          15-05-2017   16-05-2017   17-05-2017   18-05-2017   19-05-2017\n",
       "Open                 775        777.5        779.4        774.5       779.75\n",
       "High               778.6          781        782.7       780.75       784.95\n",
       "Low              771.125      774.125       775.75       774.05      772.625\n",
       "Close Price        776.7      779.825      778.575       778.55      780.625\n",
       "Adj Close        760.249      763.307      762.084      762.059       764.09\n",
       "Volume       1.40239e+06  1.79519e+06  1.73624e+06  1.55364e+06  1.42707e+06\n",
       "index                  0            1            2            3            4\n",
       "Upper_band           NaN          NaN          NaN          NaN          NaN\n",
       "Lower_band           NaN          NaN          NaN          NaN          NaN\n",
       "rolling_14           NaN          NaN          NaN          NaN          NaN"
      ]
     },
     "execution_count": 19,
     "metadata": {},
     "output_type": "execute_result"
    }
   ],
   "source": [
    "infy_.head().T"
   ]
  },
  {
   "cell_type": "markdown",
   "metadata": {},
   "source": [
    "### Removing Null Values"
   ]
  },
  {
   "cell_type": "markdown",
   "metadata": {},
   "source": [
    "As there are null values in features, we have to remove those null values."
   ]
  },
  {
   "cell_type": "code",
   "execution_count": 20,
   "metadata": {},
   "outputs": [],
   "source": [
    "infy_1=infy_.dropna(axis=0)\n"
   ]
  },
  {
   "cell_type": "code",
   "execution_count": 21,
   "metadata": {
    "scrolled": true
   },
   "outputs": [
    {
     "name": "stdout",
     "output_type": "stream",
     "text": [
      "<class 'pandas.core.frame.DataFrame'>\n",
      "Int64Index: 791 entries, 13 to 804\n",
      "Data columns (total 11 columns):\n",
      " #   Column       Non-Null Count  Dtype  \n",
      "---  ------       --------------  -----  \n",
      " 0   Date         791 non-null    object \n",
      " 1   Open         791 non-null    float64\n",
      " 2   High         791 non-null    float64\n",
      " 3   Low          791 non-null    float64\n",
      " 4   Close Price  791 non-null    float64\n",
      " 5   Adj Close    791 non-null    float64\n",
      " 6   Volume       791 non-null    float64\n",
      " 7   index        791 non-null    int32  \n",
      " 8   Upper_band   791 non-null    float64\n",
      " 9   Lower_band   791 non-null    float64\n",
      " 10  rolling_14   791 non-null    float64\n",
      "dtypes: float64(9), int32(1), object(1)\n",
      "memory usage: 71.1+ KB\n"
     ]
    }
   ],
   "source": [
    "infy_1.info()\n"
   ]
  },
  {
   "cell_type": "code",
   "execution_count": 22,
   "metadata": {
    "scrolled": true
   },
   "outputs": [
    {
     "name": "stderr",
     "output_type": "stream",
     "text": [
      "C:\\Users\\nallu\\anaconda\\lib\\site-packages\\ipykernel_launcher.py:1: SettingWithCopyWarning: \n",
      "A value is trying to be set on a copy of a slice from a DataFrame.\n",
      "Try using .loc[row_indexer,col_indexer] = value instead\n",
      "\n",
      "See the caveats in the documentation: https://pandas.pydata.org/pandas-docs/stable/user_guide/indexing.html#returning-a-view-versus-a-copy\n",
      "  \"\"\"Entry point for launching an IPython kernel.\n"
     ]
    }
   ],
   "source": [
    "infy_1['index']=range(0,791)"
   ]
  },
  {
   "cell_type": "code",
   "execution_count": 23,
   "metadata": {},
   "outputs": [
    {
     "data": {
      "text/html": [
       "<div>\n",
       "<style scoped>\n",
       "    .dataframe tbody tr th:only-of-type {\n",
       "        vertical-align: middle;\n",
       "    }\n",
       "\n",
       "    .dataframe tbody tr th {\n",
       "        vertical-align: top;\n",
       "    }\n",
       "\n",
       "    .dataframe thead th {\n",
       "        text-align: right;\n",
       "    }\n",
       "</style>\n",
       "<table border=\"1\" class=\"dataframe\">\n",
       "  <thead>\n",
       "    <tr style=\"text-align: right;\">\n",
       "      <th></th>\n",
       "      <th>Date</th>\n",
       "      <th>Open</th>\n",
       "      <th>High</th>\n",
       "      <th>Low</th>\n",
       "      <th>Close Price</th>\n",
       "      <th>Adj Close</th>\n",
       "      <th>Volume</th>\n",
       "      <th>index</th>\n",
       "      <th>Upper_band</th>\n",
       "      <th>Lower_band</th>\n",
       "      <th>rolling_14</th>\n",
       "    </tr>\n",
       "  </thead>\n",
       "  <tbody>\n",
       "    <tr>\n",
       "      <th>13</th>\n",
       "      <td>01-06-2017</td>\n",
       "      <td>819.500000</td>\n",
       "      <td>819.924988</td>\n",
       "      <td>810.275024</td>\n",
       "      <td>814.299988</td>\n",
       "      <td>797.052124</td>\n",
       "      <td>1679770.0</td>\n",
       "      <td>0</td>\n",
       "      <td>829.698951</td>\n",
       "      <td>760.965339</td>\n",
       "      <td>795.332145</td>\n",
       "    </tr>\n",
       "    <tr>\n",
       "      <th>14</th>\n",
       "      <td>02-06-2017</td>\n",
       "      <td>817.000000</td>\n",
       "      <td>823.049988</td>\n",
       "      <td>813.099976</td>\n",
       "      <td>817.125000</td>\n",
       "      <td>799.817261</td>\n",
       "      <td>1606772.0</td>\n",
       "      <td>1</td>\n",
       "      <td>832.635858</td>\n",
       "      <td>763.803429</td>\n",
       "      <td>798.219644</td>\n",
       "    </tr>\n",
       "    <tr>\n",
       "      <th>15</th>\n",
       "      <td>05-06-2017</td>\n",
       "      <td>816.849976</td>\n",
       "      <td>819.474976</td>\n",
       "      <td>812.500000</td>\n",
       "      <td>817.775024</td>\n",
       "      <td>800.453552</td>\n",
       "      <td>1449950.0</td>\n",
       "      <td>2</td>\n",
       "      <td>835.082621</td>\n",
       "      <td>766.778097</td>\n",
       "      <td>800.930359</td>\n",
       "    </tr>\n",
       "    <tr>\n",
       "      <th>16</th>\n",
       "      <td>06-06-2017</td>\n",
       "      <td>817.500000</td>\n",
       "      <td>821.900024</td>\n",
       "      <td>815.000000</td>\n",
       "      <td>819.474976</td>\n",
       "      <td>802.117493</td>\n",
       "      <td>2501316.0</td>\n",
       "      <td>3</td>\n",
       "      <td>836.740316</td>\n",
       "      <td>770.963254</td>\n",
       "      <td>803.851785</td>\n",
       "    </tr>\n",
       "    <tr>\n",
       "      <th>17</th>\n",
       "      <td>07-06-2017</td>\n",
       "      <td>820.200012</td>\n",
       "      <td>822.450012</td>\n",
       "      <td>815.174988</td>\n",
       "      <td>820.400024</td>\n",
       "      <td>803.023010</td>\n",
       "      <td>1277138.0</td>\n",
       "      <td>4</td>\n",
       "      <td>837.344247</td>\n",
       "      <td>776.337899</td>\n",
       "      <td>806.841073</td>\n",
       "    </tr>\n",
       "    <tr>\n",
       "      <th>...</th>\n",
       "      <td>...</td>\n",
       "      <td>...</td>\n",
       "      <td>...</td>\n",
       "      <td>...</td>\n",
       "      <td>...</td>\n",
       "      <td>...</td>\n",
       "      <td>...</td>\n",
       "      <td>...</td>\n",
       "      <td>...</td>\n",
       "      <td>...</td>\n",
       "      <td>...</td>\n",
       "    </tr>\n",
       "    <tr>\n",
       "      <th>800</th>\n",
       "      <td>12-08-2020</td>\n",
       "      <td>1065.000000</td>\n",
       "      <td>1066.000000</td>\n",
       "      <td>1048.000000</td>\n",
       "      <td>1063.699951</td>\n",
       "      <td>1063.699951</td>\n",
       "      <td>10333216.0</td>\n",
       "      <td>786</td>\n",
       "      <td>1112.152694</td>\n",
       "      <td>997.854455</td>\n",
       "      <td>1055.003575</td>\n",
       "    </tr>\n",
       "    <tr>\n",
       "      <th>801</th>\n",
       "      <td>13-08-2020</td>\n",
       "      <td>1067.949951</td>\n",
       "      <td>1071.349976</td>\n",
       "      <td>1056.500000</td>\n",
       "      <td>1059.050049</td>\n",
       "      <td>1059.050049</td>\n",
       "      <td>9946370.0</td>\n",
       "      <td>787</td>\n",
       "      <td>1094.619876</td>\n",
       "      <td>1006.808713</td>\n",
       "      <td>1050.714294</td>\n",
       "    </tr>\n",
       "    <tr>\n",
       "      <th>802</th>\n",
       "      <td>14-08-2020</td>\n",
       "      <td>1065.900024</td>\n",
       "      <td>1065.900024</td>\n",
       "      <td>1027.300049</td>\n",
       "      <td>1034.449951</td>\n",
       "      <td>1034.449951</td>\n",
       "      <td>10462256.0</td>\n",
       "      <td>788</td>\n",
       "      <td>1088.842897</td>\n",
       "      <td>1006.149970</td>\n",
       "      <td>1047.496434</td>\n",
       "    </tr>\n",
       "    <tr>\n",
       "      <th>803</th>\n",
       "      <td>17-08-2020</td>\n",
       "      <td>1047.000000</td>\n",
       "      <td>1047.000000</td>\n",
       "      <td>1020.200012</td>\n",
       "      <td>1032.750000</td>\n",
       "      <td>1032.750000</td>\n",
       "      <td>9780506.0</td>\n",
       "      <td>789</td>\n",
       "      <td>1078.872782</td>\n",
       "      <td>1008.420082</td>\n",
       "      <td>1043.646432</td>\n",
       "    </tr>\n",
       "    <tr>\n",
       "      <th>804</th>\n",
       "      <td>18-08-2020</td>\n",
       "      <td>1028.000000</td>\n",
       "      <td>1061.650024</td>\n",
       "      <td>1022.000000</td>\n",
       "      <td>1056.500000</td>\n",
       "      <td>1056.500000</td>\n",
       "      <td>12020412.0</td>\n",
       "      <td>790</td>\n",
       "      <td>1077.056041</td>\n",
       "      <td>1009.079684</td>\n",
       "      <td>1043.067862</td>\n",
       "    </tr>\n",
       "  </tbody>\n",
       "</table>\n",
       "<p>791 rows × 11 columns</p>\n",
       "</div>"
      ],
      "text/plain": [
       "           Date         Open         High          Low  Close Price  \\\n",
       "13   01-06-2017   819.500000   819.924988   810.275024   814.299988   \n",
       "14   02-06-2017   817.000000   823.049988   813.099976   817.125000   \n",
       "15   05-06-2017   816.849976   819.474976   812.500000   817.775024   \n",
       "16   06-06-2017   817.500000   821.900024   815.000000   819.474976   \n",
       "17   07-06-2017   820.200012   822.450012   815.174988   820.400024   \n",
       "..          ...          ...          ...          ...          ...   \n",
       "800  12-08-2020  1065.000000  1066.000000  1048.000000  1063.699951   \n",
       "801  13-08-2020  1067.949951  1071.349976  1056.500000  1059.050049   \n",
       "802  14-08-2020  1065.900024  1065.900024  1027.300049  1034.449951   \n",
       "803  17-08-2020  1047.000000  1047.000000  1020.200012  1032.750000   \n",
       "804  18-08-2020  1028.000000  1061.650024  1022.000000  1056.500000   \n",
       "\n",
       "       Adj Close      Volume  index   Upper_band   Lower_band   rolling_14  \n",
       "13    797.052124   1679770.0      0   829.698951   760.965339   795.332145  \n",
       "14    799.817261   1606772.0      1   832.635858   763.803429   798.219644  \n",
       "15    800.453552   1449950.0      2   835.082621   766.778097   800.930359  \n",
       "16    802.117493   2501316.0      3   836.740316   770.963254   803.851785  \n",
       "17    803.023010   1277138.0      4   837.344247   776.337899   806.841073  \n",
       "..           ...         ...    ...          ...          ...          ...  \n",
       "800  1063.699951  10333216.0    786  1112.152694   997.854455  1055.003575  \n",
       "801  1059.050049   9946370.0    787  1094.619876  1006.808713  1050.714294  \n",
       "802  1034.449951  10462256.0    788  1088.842897  1006.149970  1047.496434  \n",
       "803  1032.750000   9780506.0    789  1078.872782  1008.420082  1043.646432  \n",
       "804  1056.500000  12020412.0    790  1077.056041  1009.079684  1043.067862  \n",
       "\n",
       "[791 rows x 11 columns]"
      ]
     },
     "execution_count": 23,
     "metadata": {},
     "output_type": "execute_result"
    }
   ],
   "source": [
    "infy_1\n"
   ]
  },
  {
   "cell_type": "code",
   "execution_count": 24,
   "metadata": {},
   "outputs": [
    {
     "data": {
      "text/plain": [
       "1050.650024    3\n",
       "1061.319946    2\n",
       "1028.800049    2\n",
       "923.125000     2\n",
       "1264.750000    2\n",
       "              ..\n",
       "1244.349976    1\n",
       "901.174988     1\n",
       "1288.800049    1\n",
       "1047.469971    1\n",
       "849.000000     1\n",
       "Name: Close Price, Length: 770, dtype: int64"
      ]
     },
     "execution_count": 24,
     "metadata": {},
     "output_type": "execute_result"
    }
   ],
   "source": [
    "infy_1['Close Price'].value_counts()"
   ]
  },
  {
   "cell_type": "markdown",
   "metadata": {},
   "source": [
    "## Building features from other attributes"
   ]
  },
  {
   "cell_type": "markdown",
   "metadata": {},
   "source": [
    "As we are using the bollinger bands concept for trade call prediction, we need to calculate bollinger bands, they are only our features for classifying the trade calls."
   ]
  },
  {
   "cell_type": "code",
   "execution_count": 25,
   "metadata": {},
   "outputs": [],
   "source": [
    "def Call_fun_test(ind):\n",
    "    cp=test_1[test_1['index']==ind]['Close']\n",
    "    lp=test_1[test_1['index']==ind]['Lower_band']\n",
    "    mid=test_1[test_1['index']==ind]['rolling_14']\n",
    "    up=test_1[test_1['index']==ind]['Upper_band']\n",
    "    if (cp<lp).bool():\n",
    "        return 'Buy'\n",
    "    elif (lp<cp).bool() and (cp<mid).bool():\n",
    "        return 'Hold'\n",
    "    elif (cp>up).bool():\n",
    "        return 'Short'   \n",
    "    if (mid<cp).bool() and (cp<up).bool():\n",
    "        return 'Hold'"
   ]
  },
  {
   "cell_type": "code",
   "execution_count": 26,
   "metadata": {},
   "outputs": [],
   "source": [
    "def Call_fun(ind):\n",
    "    cp=infy_1[infy_1['index']==ind]['Close Price']\n",
    "    lp=infy_1[infy_1['index']==ind]['Lower_band']\n",
    "    mid=infy_1[infy_1['index']==ind]['rolling_14']\n",
    "    up=infy_1[infy_1['index']==ind]['Upper_band']\n",
    "    if (cp<lp).bool():\n",
    "        return 'Buy'\n",
    "    elif (lp<cp).bool() and (cp<mid).bool():\n",
    "        return 'Hold'\n",
    "    elif (cp>up).bool():\n",
    "        return 'Short'   \n",
    "    if (mid<cp).bool() and (cp<up).bool():\n",
    "        return 'Hold'\n",
    "        "
   ]
  },
  {
   "cell_type": "code",
   "execution_count": 27,
   "metadata": {},
   "outputs": [],
   "source": [
    "call=infy_1['index'].apply(Call_fun)"
   ]
  },
  {
   "cell_type": "code",
   "execution_count": 28,
   "metadata": {},
   "outputs": [
    {
     "name": "stderr",
     "output_type": "stream",
     "text": [
      "C:\\Users\\nallu\\anaconda\\lib\\site-packages\\ipykernel_launcher.py:1: SettingWithCopyWarning: \n",
      "A value is trying to be set on a copy of a slice from a DataFrame.\n",
      "Try using .loc[row_indexer,col_indexer] = value instead\n",
      "\n",
      "See the caveats in the documentation: https://pandas.pydata.org/pandas-docs/stable/user_guide/indexing.html#returning-a-view-versus-a-copy\n",
      "  \"\"\"Entry point for launching an IPython kernel.\n"
     ]
    }
   ],
   "source": [
    "infy_1['Call']=call"
   ]
  },
  {
   "cell_type": "code",
   "execution_count": 29,
   "metadata": {},
   "outputs": [
    {
     "data": {
      "text/html": [
       "<div>\n",
       "<style scoped>\n",
       "    .dataframe tbody tr th:only-of-type {\n",
       "        vertical-align: middle;\n",
       "    }\n",
       "\n",
       "    .dataframe tbody tr th {\n",
       "        vertical-align: top;\n",
       "    }\n",
       "\n",
       "    .dataframe thead th {\n",
       "        text-align: right;\n",
       "    }\n",
       "</style>\n",
       "<table border=\"1\" class=\"dataframe\">\n",
       "  <thead>\n",
       "    <tr style=\"text-align: right;\">\n",
       "      <th></th>\n",
       "      <th>13</th>\n",
       "      <th>14</th>\n",
       "      <th>15</th>\n",
       "      <th>16</th>\n",
       "      <th>17</th>\n",
       "    </tr>\n",
       "  </thead>\n",
       "  <tbody>\n",
       "    <tr>\n",
       "      <th>Date</th>\n",
       "      <td>01-06-2017</td>\n",
       "      <td>02-06-2017</td>\n",
       "      <td>05-06-2017</td>\n",
       "      <td>06-06-2017</td>\n",
       "      <td>07-06-2017</td>\n",
       "    </tr>\n",
       "    <tr>\n",
       "      <th>Open</th>\n",
       "      <td>819.5</td>\n",
       "      <td>817</td>\n",
       "      <td>816.85</td>\n",
       "      <td>817.5</td>\n",
       "      <td>820.2</td>\n",
       "    </tr>\n",
       "    <tr>\n",
       "      <th>High</th>\n",
       "      <td>819.925</td>\n",
       "      <td>823.05</td>\n",
       "      <td>819.475</td>\n",
       "      <td>821.9</td>\n",
       "      <td>822.45</td>\n",
       "    </tr>\n",
       "    <tr>\n",
       "      <th>Low</th>\n",
       "      <td>810.275</td>\n",
       "      <td>813.1</td>\n",
       "      <td>812.5</td>\n",
       "      <td>815</td>\n",
       "      <td>815.175</td>\n",
       "    </tr>\n",
       "    <tr>\n",
       "      <th>Close Price</th>\n",
       "      <td>814.3</td>\n",
       "      <td>817.125</td>\n",
       "      <td>817.775</td>\n",
       "      <td>819.475</td>\n",
       "      <td>820.4</td>\n",
       "    </tr>\n",
       "    <tr>\n",
       "      <th>Adj Close</th>\n",
       "      <td>797.052</td>\n",
       "      <td>799.817</td>\n",
       "      <td>800.454</td>\n",
       "      <td>802.117</td>\n",
       "      <td>803.023</td>\n",
       "    </tr>\n",
       "    <tr>\n",
       "      <th>Volume</th>\n",
       "      <td>1.67977e+06</td>\n",
       "      <td>1.60677e+06</td>\n",
       "      <td>1.44995e+06</td>\n",
       "      <td>2.50132e+06</td>\n",
       "      <td>1.27714e+06</td>\n",
       "    </tr>\n",
       "    <tr>\n",
       "      <th>index</th>\n",
       "      <td>0</td>\n",
       "      <td>1</td>\n",
       "      <td>2</td>\n",
       "      <td>3</td>\n",
       "      <td>4</td>\n",
       "    </tr>\n",
       "    <tr>\n",
       "      <th>Upper_band</th>\n",
       "      <td>829.699</td>\n",
       "      <td>832.636</td>\n",
       "      <td>835.083</td>\n",
       "      <td>836.74</td>\n",
       "      <td>837.344</td>\n",
       "    </tr>\n",
       "    <tr>\n",
       "      <th>Lower_band</th>\n",
       "      <td>760.965</td>\n",
       "      <td>763.803</td>\n",
       "      <td>766.778</td>\n",
       "      <td>770.963</td>\n",
       "      <td>776.338</td>\n",
       "    </tr>\n",
       "    <tr>\n",
       "      <th>rolling_14</th>\n",
       "      <td>795.332</td>\n",
       "      <td>798.22</td>\n",
       "      <td>800.93</td>\n",
       "      <td>803.852</td>\n",
       "      <td>806.841</td>\n",
       "    </tr>\n",
       "    <tr>\n",
       "      <th>Call</th>\n",
       "      <td>Hold</td>\n",
       "      <td>Hold</td>\n",
       "      <td>Hold</td>\n",
       "      <td>Hold</td>\n",
       "      <td>Hold</td>\n",
       "    </tr>\n",
       "  </tbody>\n",
       "</table>\n",
       "</div>"
      ],
      "text/plain": [
       "                      13           14           15           16           17\n",
       "Date          01-06-2017   02-06-2017   05-06-2017   06-06-2017   07-06-2017\n",
       "Open               819.5          817       816.85        817.5        820.2\n",
       "High             819.925       823.05      819.475        821.9       822.45\n",
       "Low              810.275        813.1        812.5          815      815.175\n",
       "Close Price        814.3      817.125      817.775      819.475        820.4\n",
       "Adj Close        797.052      799.817      800.454      802.117      803.023\n",
       "Volume       1.67977e+06  1.60677e+06  1.44995e+06  2.50132e+06  1.27714e+06\n",
       "index                  0            1            2            3            4\n",
       "Upper_band       829.699      832.636      835.083       836.74      837.344\n",
       "Lower_band       760.965      763.803      766.778      770.963      776.338\n",
       "rolling_14       795.332       798.22       800.93      803.852      806.841\n",
       "Call                Hold         Hold         Hold         Hold         Hold"
      ]
     },
     "execution_count": 29,
     "metadata": {},
     "output_type": "execute_result"
    }
   ],
   "source": [
    "infy_1.head().T\n"
   ]
  },
  {
   "cell_type": "code",
   "execution_count": 30,
   "metadata": {},
   "outputs": [],
   "source": [
    "def change_call(n):\n",
    "    if n =='Buy':\n",
    "        return 0\n",
    "    elif n=='Hold':\n",
    "        return 1\n",
    "    elif n=='Short':\n",
    "        return 2"
   ]
  },
  {
   "cell_type": "code",
   "execution_count": 31,
   "metadata": {},
   "outputs": [],
   "source": [
    "def change_call_t(n):\n",
    "    if n =='Buy':\n",
    "        return 0\n",
    "    elif n=='Hold':\n",
    "        return 1\n",
    "    elif n=='Short':\n",
    "        return 2"
   ]
  },
  {
   "cell_type": "code",
   "execution_count": 32,
   "metadata": {},
   "outputs": [
    {
     "name": "stderr",
     "output_type": "stream",
     "text": [
      "C:\\Users\\nallu\\anaconda\\lib\\site-packages\\ipykernel_launcher.py:1: SettingWithCopyWarning: \n",
      "A value is trying to be set on a copy of a slice from a DataFrame.\n",
      "Try using .loc[row_indexer,col_indexer] = value instead\n",
      "\n",
      "See the caveats in the documentation: https://pandas.pydata.org/pandas-docs/stable/user_guide/indexing.html#returning-a-view-versus-a-copy\n",
      "  \"\"\"Entry point for launching an IPython kernel.\n"
     ]
    }
   ],
   "source": [
    "infy_1['Calls']=infy_1['Call'].apply(change_call)\n"
   ]
  },
  {
   "cell_type": "code",
   "execution_count": 33,
   "metadata": {},
   "outputs": [
    {
     "data": {
      "text/plain": [
       "1    724\n",
       "2     43\n",
       "0     24\n",
       "Name: Calls, dtype: int64"
      ]
     },
     "execution_count": 33,
     "metadata": {},
     "output_type": "execute_result"
    }
   ],
   "source": [
    "infy_1['Calls'].value_counts()\n"
   ]
  },
  {
   "cell_type": "markdown",
   "metadata": {},
   "source": [
    "### Extracting features and label"
   ]
  },
  {
   "cell_type": "code",
   "execution_count": 34,
   "metadata": {},
   "outputs": [],
   "source": [
    "x=infy_1[['Upper_band','rolling_14',\"Lower_band\",'Close Price']]\n"
   ]
  },
  {
   "cell_type": "code",
   "execution_count": 35,
   "metadata": {},
   "outputs": [],
   "source": [
    "y=infy_1['Calls']"
   ]
  },
  {
   "cell_type": "code",
   "execution_count": 36,
   "metadata": {},
   "outputs": [
    {
     "data": {
      "text/plain": [
       "'0.22.1'"
      ]
     },
     "execution_count": 36,
     "metadata": {},
     "output_type": "execute_result"
    }
   ],
   "source": [
    "import sklearn\n",
    "sklearn.__version__"
   ]
  },
  {
   "cell_type": "code",
   "execution_count": 37,
   "metadata": {},
   "outputs": [
    {
     "data": {
      "text/plain": [
       "((791, 4), (791,))"
      ]
     },
     "execution_count": 37,
     "metadata": {},
     "output_type": "execute_result"
    }
   ],
   "source": [
    "x.shape,y.shape"
   ]
  },
  {
   "cell_type": "markdown",
   "metadata": {},
   "source": [
    "## Splitting data into train and test sets"
   ]
  },
  {
   "cell_type": "markdown",
   "metadata": {},
   "source": [
    "Here we are splitting data as 70% train data and 30% test data"
   ]
  },
  {
   "cell_type": "code",
   "execution_count": 38,
   "metadata": {},
   "outputs": [],
   "source": [
    "from sklearn.model_selection import train_test_split"
   ]
  },
  {
   "cell_type": "code",
   "execution_count": 39,
   "metadata": {},
   "outputs": [],
   "source": [
    "X_train,X_test,Y_train,Y_test=train_test_split(x,y,test_size=0.3,random_state=67)"
   ]
  },
  {
   "cell_type": "markdown",
   "metadata": {},
   "source": [
    "## Feature scaling"
   ]
  },
  {
   "cell_type": "markdown",
   "metadata": {},
   "source": [
    "* To avoid the dominance of features having higher numeric ranges over features with small numeric ranges, we scale all the features to the same range(mostly 0-1)\n",
    "* We are using StandardScaler class for scaling the features"
   ]
  },
  {
   "cell_type": "code",
   "execution_count": 40,
   "metadata": {},
   "outputs": [],
   "source": [
    "from sklearn.preprocessing import StandardScaler\n",
    "from sklearn import preprocessing"
   ]
  },
  {
   "cell_type": "code",
   "execution_count": 41,
   "metadata": {},
   "outputs": [],
   "source": [
    "scaler=StandardScaler()"
   ]
  },
  {
   "cell_type": "code",
   "execution_count": 42,
   "metadata": {},
   "outputs": [
    {
     "data": {
      "text/plain": [
       "StandardScaler(copy=True, with_mean=True, with_std=True)"
      ]
     },
     "execution_count": 42,
     "metadata": {},
     "output_type": "execute_result"
    }
   ],
   "source": [
    "scaler.fit(X_train)"
   ]
  },
  {
   "cell_type": "code",
   "execution_count": 43,
   "metadata": {},
   "outputs": [],
   "source": [
    "X_scaled=scaler.transform(X_train)"
   ]
  },
  {
   "cell_type": "code",
   "execution_count": 44,
   "metadata": {},
   "outputs": [
    {
     "data": {
      "text/plain": [
       "array([-1.08572986e-15, -6.93839199e-16,  6.42443703e-16, -1.07288098e-15])"
      ]
     },
     "execution_count": 44,
     "metadata": {},
     "output_type": "execute_result"
    }
   ],
   "source": [
    "X_scaled.mean(axis=0)"
   ]
  },
  {
   "cell_type": "code",
   "execution_count": 45,
   "metadata": {},
   "outputs": [
    {
     "data": {
      "text/plain": [
       "array([1., 1., 1., 1.])"
      ]
     },
     "execution_count": 45,
     "metadata": {},
     "output_type": "execute_result"
    }
   ],
   "source": [
    "X_scaled.std(axis=0)"
   ]
  },
  {
   "cell_type": "code",
   "execution_count": 46,
   "metadata": {},
   "outputs": [],
   "source": [
    "X_test=preprocessing.scale(X_test)"
   ]
  },
  {
   "cell_type": "markdown",
   "metadata": {},
   "source": [
    "## Developing the Model"
   ]
  },
  {
   "cell_type": "markdown",
   "metadata": {},
   "source": [
    "I have used the support vector classifier(SVC) to classify the trade calls."
   ]
  },
  {
   "cell_type": "code",
   "execution_count": 47,
   "metadata": {},
   "outputs": [],
   "source": [
    "from sklearn.svm import SVC"
   ]
  },
  {
   "cell_type": "code",
   "execution_count": 48,
   "metadata": {},
   "outputs": [],
   "source": [
    "smod=SVC(probability=True)"
   ]
  },
  {
   "cell_type": "code",
   "execution_count": 49,
   "metadata": {},
   "outputs": [
    {
     "data": {
      "text/plain": [
       "SVC(C=1.0, break_ties=False, cache_size=200, class_weight=None, coef0=0.0,\n",
       "    decision_function_shape='ovr', degree=3, gamma='scale', kernel='rbf',\n",
       "    max_iter=-1, probability=True, random_state=None, shrinking=True, tol=0.001,\n",
       "    verbose=False)"
      ]
     },
     "execution_count": 49,
     "metadata": {},
     "output_type": "execute_result"
    }
   ],
   "source": [
    "smod.fit(X_scaled,Y_train)"
   ]
  },
  {
   "cell_type": "code",
   "execution_count": 50,
   "metadata": {},
   "outputs": [],
   "source": [
    "y_score = smod.fit(X_scaled, Y_train).decision_function(X_test)\n"
   ]
  },
  {
   "cell_type": "markdown",
   "metadata": {},
   "source": [
    "## Evaluating the model"
   ]
  },
  {
   "cell_type": "code",
   "execution_count": 51,
   "metadata": {},
   "outputs": [],
   "source": [
    "from sklearn.metrics import confusion_matrix"
   ]
  },
  {
   "cell_type": "code",
   "execution_count": 52,
   "metadata": {},
   "outputs": [
    {
     "data": {
      "text/plain": [
       "0.9117647058823529"
      ]
     },
     "execution_count": 52,
     "metadata": {},
     "output_type": "execute_result"
    }
   ],
   "source": [
    "smod.score(X_test,Y_test)"
   ]
  },
  {
   "cell_type": "code",
   "execution_count": 53,
   "metadata": {},
   "outputs": [
    {
     "data": {
      "text/plain": [
       "array([1, 1, 1, 1, 1, 1, 1, 1, 1, 1, 1, 1, 1, 1, 1, 1, 1, 1, 1, 1, 1, 1,\n",
       "       1, 1, 1, 1, 1, 1, 1, 1, 1, 1, 1, 1, 1, 1, 1, 1, 1, 1, 1, 1, 1, 1,\n",
       "       1, 1, 1, 1, 1, 1, 1, 1, 1, 1, 1, 1, 1, 1, 1, 1, 1, 1, 1, 1, 1, 1,\n",
       "       1, 1, 1, 1, 1, 1, 1, 1, 1, 1, 1, 1, 1, 1, 1, 1, 1, 1, 1, 1, 1, 1,\n",
       "       1, 1, 1, 1, 1, 1, 1, 1, 1, 1, 1, 1, 1, 1, 1, 1, 1, 1, 1, 1, 1, 1,\n",
       "       1, 1, 1, 1, 1, 1, 1, 1, 1, 1, 1, 1, 1, 1, 1, 1, 1, 1, 1, 1, 1, 1,\n",
       "       1, 1, 1, 1, 1, 1, 1, 1, 1, 1, 1, 1, 1, 1, 1, 1, 1, 1, 1, 1, 1, 1,\n",
       "       1, 1, 1, 1, 1, 1, 1, 1, 1, 1, 1, 1, 1, 1, 1, 1, 1, 1, 1, 1, 1, 1,\n",
       "       1, 1, 1, 1, 1, 1, 1, 1, 1, 1, 1, 1, 1, 1, 1, 1, 1, 1, 1, 1, 1, 1,\n",
       "       1, 1, 1, 1, 1, 1, 1, 1, 1, 1, 1, 1, 1, 1, 1, 1, 1, 1, 1, 1, 1, 1,\n",
       "       1, 1, 1, 1, 1, 1, 1, 1, 1, 1, 1, 1, 1, 1, 1, 1, 1, 1], dtype=int64)"
      ]
     },
     "execution_count": 53,
     "metadata": {},
     "output_type": "execute_result"
    }
   ],
   "source": [
    "preds=smod.predict(X_test)\n",
    "preds"
   ]
  },
  {
   "cell_type": "code",
   "execution_count": 54,
   "metadata": {
    "scrolled": true
   },
   "outputs": [
    {
     "data": {
      "text/plain": [
       "array([[  0,   8,   0],\n",
       "       [  0, 217,   0],\n",
       "       [  0,  13,   0]], dtype=int64)"
      ]
     },
     "execution_count": 54,
     "metadata": {},
     "output_type": "execute_result"
    }
   ],
   "source": [
    "confusion_matrix(Y_test,preds)"
   ]
  },
  {
   "cell_type": "code",
   "execution_count": 55,
   "metadata": {},
   "outputs": [
    {
     "data": {
      "text/plain": [
       "{'C': 1.0,\n",
       " 'break_ties': False,\n",
       " 'cache_size': 200,\n",
       " 'class_weight': None,\n",
       " 'coef0': 0.0,\n",
       " 'decision_function_shape': 'ovr',\n",
       " 'degree': 3,\n",
       " 'gamma': 'scale',\n",
       " 'kernel': 'rbf',\n",
       " 'max_iter': -1,\n",
       " 'probability': True,\n",
       " 'random_state': None,\n",
       " 'shrinking': True,\n",
       " 'tol': 0.001,\n",
       " 'verbose': False}"
      ]
     },
     "execution_count": 55,
     "metadata": {},
     "output_type": "execute_result"
    }
   ],
   "source": [
    "smod.get_params()"
   ]
  },
  {
   "cell_type": "markdown",
   "metadata": {},
   "source": [
    "Our model is performing very poorly, so we need to improve the model."
   ]
  },
  {
   "cell_type": "code",
   "execution_count": 56,
   "metadata": {},
   "outputs": [
    {
     "name": "stdout",
     "output_type": "stream",
     "text": [
      "              precision    recall  f1-score   support\n",
      "\n",
      "           0       0.00      0.00      0.00         0\n",
      "           1       1.00      0.91      0.95       238\n",
      "           2       0.00      0.00      0.00         0\n",
      "\n",
      "    accuracy                           0.91       238\n",
      "   macro avg       0.33      0.30      0.32       238\n",
      "weighted avg       1.00      0.91      0.95       238\n",
      "\n"
     ]
    },
    {
     "name": "stderr",
     "output_type": "stream",
     "text": [
      "C:\\Users\\nallu\\anaconda\\lib\\site-packages\\sklearn\\metrics\\_classification.py:1272: UndefinedMetricWarning: Recall and F-score are ill-defined and being set to 0.0 in labels with no true samples. Use `zero_division` parameter to control this behavior.\n",
      "  _warn_prf(average, modifier, msg_start, len(result))\n"
     ]
    }
   ],
   "source": [
    "from sklearn.metrics import classification_report\n",
    "print(classification_report(preds,Y_test))"
   ]
  },
  {
   "cell_type": "markdown",
   "metadata": {},
   "source": [
    "## Improving the SVC Model"
   ]
  },
  {
   "cell_type": "markdown",
   "metadata": {},
   "source": [
    " Here, I am using the GridSearchCV to improve the model"
   ]
  },
  {
   "cell_type": "code",
   "execution_count": 57,
   "metadata": {},
   "outputs": [],
   "source": [
    "from sklearn.model_selection import GridSearchCV"
   ]
  },
  {
   "cell_type": "code",
   "execution_count": 58,
   "metadata": {},
   "outputs": [],
   "source": [
    "param_grid = {'C': [0.1,1, 10, 100], 'gamma': [1,0.1,0.01,0.001]} "
   ]
  },
  {
   "cell_type": "code",
   "execution_count": 59,
   "metadata": {},
   "outputs": [],
   "source": [
    "grid = GridSearchCV(SVC(probability=True),param_grid,refit=True,verbose=2)"
   ]
  },
  {
   "cell_type": "code",
   "execution_count": 60,
   "metadata": {},
   "outputs": [
    {
     "name": "stderr",
     "output_type": "stream",
     "text": [
      "[Parallel(n_jobs=1)]: Using backend SequentialBackend with 1 concurrent workers.\n",
      "[Parallel(n_jobs=1)]: Done   1 out of   1 | elapsed:    0.0s remaining:    0.0s\n"
     ]
    },
    {
     "name": "stdout",
     "output_type": "stream",
     "text": [
      "Fitting 5 folds for each of 16 candidates, totalling 80 fits\n",
      "[CV] C=0.1, gamma=1 ..................................................\n",
      "[CV] ................................... C=0.1, gamma=1, total=   0.0s\n",
      "[CV] C=0.1, gamma=1 ..................................................\n",
      "[CV] ................................... C=0.1, gamma=1, total=   0.0s\n",
      "[CV] C=0.1, gamma=1 ..................................................\n",
      "[CV] ................................... C=0.1, gamma=1, total=   0.0s\n",
      "[CV] C=0.1, gamma=1 ..................................................\n",
      "[CV] ................................... C=0.1, gamma=1, total=   0.0s\n",
      "[CV] C=0.1, gamma=1 ..................................................\n",
      "[CV] ................................... C=0.1, gamma=1, total=   0.0s\n",
      "[CV] C=0.1, gamma=0.1 ................................................\n",
      "[CV] ................................. C=0.1, gamma=0.1, total=   0.0s\n",
      "[CV] C=0.1, gamma=0.1 ................................................\n",
      "[CV] ................................. C=0.1, gamma=0.1, total=   0.0s\n",
      "[CV] C=0.1, gamma=0.1 ................................................\n",
      "[CV] ................................. C=0.1, gamma=0.1, total=   0.0s\n",
      "[CV] C=0.1, gamma=0.1 ................................................\n",
      "[CV] ................................. C=0.1, gamma=0.1, total=   0.0s\n",
      "[CV] C=0.1, gamma=0.1 ................................................\n",
      "[CV] ................................. C=0.1, gamma=0.1, total=   0.0s\n",
      "[CV] C=0.1, gamma=0.01 ...............................................\n",
      "[CV] ................................ C=0.1, gamma=0.01, total=   0.0s\n",
      "[CV] C=0.1, gamma=0.01 ...............................................\n",
      "[CV] ................................ C=0.1, gamma=0.01, total=   0.0s\n",
      "[CV] C=0.1, gamma=0.01 ...............................................\n",
      "[CV] ................................ C=0.1, gamma=0.01, total=   0.0s\n",
      "[CV] C=0.1, gamma=0.01 ...............................................\n",
      "[CV] ................................ C=0.1, gamma=0.01, total=   0.0s\n",
      "[CV] C=0.1, gamma=0.01 ...............................................\n",
      "[CV] ................................ C=0.1, gamma=0.01, total=   0.0s\n",
      "[CV] C=0.1, gamma=0.001 ..............................................\n",
      "[CV] ............................... C=0.1, gamma=0.001, total=   0.0s\n",
      "[CV] C=0.1, gamma=0.001 ..............................................\n",
      "[CV] ............................... C=0.1, gamma=0.001, total=   0.0s\n",
      "[CV] C=0.1, gamma=0.001 ..............................................\n",
      "[CV] ............................... C=0.1, gamma=0.001, total=   0.0s\n",
      "[CV] C=0.1, gamma=0.001 ..............................................\n",
      "[CV] ............................... C=0.1, gamma=0.001, total=   0.0s\n",
      "[CV] C=0.1, gamma=0.001 ..............................................\n",
      "[CV] ............................... C=0.1, gamma=0.001, total=   0.0s\n",
      "[CV] C=1, gamma=1 ....................................................\n",
      "[CV] ..................................... C=1, gamma=1, total=   0.0s\n",
      "[CV] C=1, gamma=1 ....................................................\n",
      "[CV] ..................................... C=1, gamma=1, total=   0.0s\n",
      "[CV] C=1, gamma=1 ....................................................\n",
      "[CV] ..................................... C=1, gamma=1, total=   0.0s\n",
      "[CV] C=1, gamma=1 ....................................................\n",
      "[CV] ..................................... C=1, gamma=1, total=   0.0s\n",
      "[CV] C=1, gamma=1 ....................................................\n",
      "[CV] ..................................... C=1, gamma=1, total=   0.0s\n",
      "[CV] C=1, gamma=0.1 ..................................................\n",
      "[CV] ................................... C=1, gamma=0.1, total=   0.0s\n",
      "[CV] C=1, gamma=0.1 ..................................................\n",
      "[CV] ................................... C=1, gamma=0.1, total=   0.0s\n",
      "[CV] C=1, gamma=0.1 ..................................................\n",
      "[CV] ................................... C=1, gamma=0.1, total=   0.0s\n",
      "[CV] C=1, gamma=0.1 ..................................................\n",
      "[CV] ................................... C=1, gamma=0.1, total=   0.0s\n",
      "[CV] C=1, gamma=0.1 ..................................................\n",
      "[CV] ................................... C=1, gamma=0.1, total=   0.0s\n",
      "[CV] C=1, gamma=0.01 .................................................\n",
      "[CV] .................................. C=1, gamma=0.01, total=   0.0s\n",
      "[CV] C=1, gamma=0.01 .................................................\n",
      "[CV] .................................. C=1, gamma=0.01, total=   0.0s\n",
      "[CV] C=1, gamma=0.01 .................................................\n",
      "[CV] .................................. C=1, gamma=0.01, total=   0.0s\n",
      "[CV] C=1, gamma=0.01 .................................................\n",
      "[CV] .................................. C=1, gamma=0.01, total=   0.0s\n",
      "[CV] C=1, gamma=0.01 .................................................\n",
      "[CV] .................................. C=1, gamma=0.01, total=   0.0s\n",
      "[CV] C=1, gamma=0.001 ................................................\n",
      "[CV] ................................. C=1, gamma=0.001, total=   0.0s\n",
      "[CV] C=1, gamma=0.001 ................................................\n",
      "[CV] ................................. C=1, gamma=0.001, total=   0.0s\n",
      "[CV] C=1, gamma=0.001 ................................................\n",
      "[CV] ................................. C=1, gamma=0.001, total=   0.0s\n",
      "[CV] C=1, gamma=0.001 ................................................\n",
      "[CV] ................................. C=1, gamma=0.001, total=   0.0s\n",
      "[CV] C=1, gamma=0.001 ................................................\n",
      "[CV] ................................. C=1, gamma=0.001, total=   0.0s\n",
      "[CV] C=10, gamma=1 ...................................................\n",
      "[CV] .................................... C=10, gamma=1, total=   0.0s\n",
      "[CV] C=10, gamma=1 ...................................................\n",
      "[CV] .................................... C=10, gamma=1, total=   0.0s\n",
      "[CV] C=10, gamma=1 ...................................................\n",
      "[CV] .................................... C=10, gamma=1, total=   0.0s\n",
      "[CV] C=10, gamma=1 ...................................................\n",
      "[CV] .................................... C=10, gamma=1, total=   0.0s\n",
      "[CV] C=10, gamma=1 ...................................................\n",
      "[CV] .................................... C=10, gamma=1, total=   0.0s\n",
      "[CV] C=10, gamma=0.1 .................................................\n",
      "[CV] .................................. C=10, gamma=0.1, total=   0.0s\n",
      "[CV] C=10, gamma=0.1 .................................................\n",
      "[CV] .................................. C=10, gamma=0.1, total=   0.0s\n",
      "[CV] C=10, gamma=0.1 .................................................\n",
      "[CV] .................................. C=10, gamma=0.1, total=   0.0s\n",
      "[CV] C=10, gamma=0.1 .................................................\n",
      "[CV] .................................. C=10, gamma=0.1, total=   0.0s\n",
      "[CV] C=10, gamma=0.1 .................................................\n",
      "[CV] .................................. C=10, gamma=0.1, total=   0.0s\n",
      "[CV] C=10, gamma=0.01 ................................................\n",
      "[CV] ................................. C=10, gamma=0.01, total=   0.0s\n",
      "[CV] C=10, gamma=0.01 ................................................\n",
      "[CV] ................................. C=10, gamma=0.01, total=   0.0s\n",
      "[CV] C=10, gamma=0.01 ................................................\n",
      "[CV] ................................. C=10, gamma=0.01, total=   0.0s\n",
      "[CV] C=10, gamma=0.01 ................................................\n",
      "[CV] ................................. C=10, gamma=0.01, total=   0.0s\n",
      "[CV] C=10, gamma=0.01 ................................................\n",
      "[CV] ................................. C=10, gamma=0.01, total=   0.0s\n",
      "[CV] C=10, gamma=0.001 ...............................................\n",
      "[CV] ................................ C=10, gamma=0.001, total=   0.0s\n",
      "[CV] C=10, gamma=0.001 ...............................................\n",
      "[CV] ................................ C=10, gamma=0.001, total=   0.0s\n",
      "[CV] C=10, gamma=0.001 ...............................................\n",
      "[CV] ................................ C=10, gamma=0.001, total=   0.0s\n",
      "[CV] C=10, gamma=0.001 ...............................................\n",
      "[CV] ................................ C=10, gamma=0.001, total=   0.0s\n",
      "[CV] C=10, gamma=0.001 ...............................................\n",
      "[CV] ................................ C=10, gamma=0.001, total=   0.0s\n",
      "[CV] C=100, gamma=1 ..................................................\n",
      "[CV] ................................... C=100, gamma=1, total=   0.0s\n",
      "[CV] C=100, gamma=1 ..................................................\n",
      "[CV] ................................... C=100, gamma=1, total=   0.0s\n",
      "[CV] C=100, gamma=1 ..................................................\n",
      "[CV] ................................... C=100, gamma=1, total=   0.0s\n",
      "[CV] C=100, gamma=1 ..................................................\n",
      "[CV] ................................... C=100, gamma=1, total=   0.0s\n",
      "[CV] C=100, gamma=1 ..................................................\n"
     ]
    },
    {
     "name": "stdout",
     "output_type": "stream",
     "text": [
      "[CV] ................................... C=100, gamma=1, total=   0.0s\n",
      "[CV] C=100, gamma=0.1 ................................................\n",
      "[CV] ................................. C=100, gamma=0.1, total=   0.0s\n",
      "[CV] C=100, gamma=0.1 ................................................\n",
      "[CV] ................................. C=100, gamma=0.1, total=   0.0s\n",
      "[CV] C=100, gamma=0.1 ................................................\n",
      "[CV] ................................. C=100, gamma=0.1, total=   0.0s\n",
      "[CV] C=100, gamma=0.1 ................................................\n",
      "[CV] ................................. C=100, gamma=0.1, total=   0.0s\n",
      "[CV] C=100, gamma=0.1 ................................................\n",
      "[CV] ................................. C=100, gamma=0.1, total=   0.0s\n",
      "[CV] C=100, gamma=0.01 ...............................................\n",
      "[CV] ................................ C=100, gamma=0.01, total=   0.0s\n",
      "[CV] C=100, gamma=0.01 ...............................................\n",
      "[CV] ................................ C=100, gamma=0.01, total=   0.0s\n",
      "[CV] C=100, gamma=0.01 ...............................................\n",
      "[CV] ................................ C=100, gamma=0.01, total=   0.0s\n",
      "[CV] C=100, gamma=0.01 ...............................................\n",
      "[CV] ................................ C=100, gamma=0.01, total=   0.0s\n",
      "[CV] C=100, gamma=0.01 ...............................................\n",
      "[CV] ................................ C=100, gamma=0.01, total=   0.0s\n",
      "[CV] C=100, gamma=0.001 ..............................................\n",
      "[CV] ............................... C=100, gamma=0.001, total=   0.0s\n",
      "[CV] C=100, gamma=0.001 ..............................................\n",
      "[CV] ............................... C=100, gamma=0.001, total=   0.0s\n",
      "[CV] C=100, gamma=0.001 ..............................................\n",
      "[CV] ............................... C=100, gamma=0.001, total=   0.0s\n",
      "[CV] C=100, gamma=0.001 ..............................................\n",
      "[CV] ............................... C=100, gamma=0.001, total=   0.0s\n",
      "[CV] C=100, gamma=0.001 ..............................................\n",
      "[CV] ............................... C=100, gamma=0.001, total=   0.0s\n"
     ]
    },
    {
     "name": "stderr",
     "output_type": "stream",
     "text": [
      "[Parallel(n_jobs=1)]: Done  80 out of  80 | elapsed:    1.2s finished\n"
     ]
    },
    {
     "data": {
      "text/plain": [
       "GridSearchCV(cv=None, error_score=nan,\n",
       "             estimator=SVC(C=1.0, break_ties=False, cache_size=200,\n",
       "                           class_weight=None, coef0=0.0,\n",
       "                           decision_function_shape='ovr', degree=3,\n",
       "                           gamma='scale', kernel='rbf', max_iter=-1,\n",
       "                           probability=True, random_state=None, shrinking=True,\n",
       "                           tol=0.001, verbose=False),\n",
       "             iid='deprecated', n_jobs=None,\n",
       "             param_grid={'C': [0.1, 1, 10, 100],\n",
       "                         'gamma': [1, 0.1, 0.01, 0.001]},\n",
       "             pre_dispatch='2*n_jobs', refit=True, return_train_score=False,\n",
       "             scoring=None, verbose=2)"
      ]
     },
     "execution_count": 60,
     "metadata": {},
     "output_type": "execute_result"
    }
   ],
   "source": [
    "grid.fit(X_scaled,Y_train)"
   ]
  },
  {
   "cell_type": "code",
   "execution_count": 61,
   "metadata": {
    "scrolled": true
   },
   "outputs": [
    {
     "data": {
      "text/plain": [
       "0.9285714285714286"
      ]
     },
     "execution_count": 61,
     "metadata": {},
     "output_type": "execute_result"
    }
   ],
   "source": [
    "grid.score(X_test,Y_test)"
   ]
  },
  {
   "cell_type": "code",
   "execution_count": 62,
   "metadata": {},
   "outputs": [],
   "source": [
    "preds_g=grid.predict(X_test)"
   ]
  },
  {
   "cell_type": "code",
   "execution_count": 63,
   "metadata": {},
   "outputs": [
    {
     "name": "stdout",
     "output_type": "stream",
     "text": [
      "              precision    recall  f1-score   support\n",
      "\n",
      "           0       0.80      0.50      0.62         8\n",
      "           1       0.93      1.00      0.96       217\n",
      "           2       1.00      0.08      0.14        13\n",
      "\n",
      "    accuracy                           0.93       238\n",
      "   macro avg       0.91      0.52      0.57       238\n",
      "weighted avg       0.93      0.93      0.91       238\n",
      "\n"
     ]
    }
   ],
   "source": [
    "print(classification_report(Y_test,preds_g))"
   ]
  },
  {
   "cell_type": "markdown",
   "metadata": {},
   "source": [
    "Here, we can observe that our model got improved, and is now performing well."
   ]
  },
  {
   "cell_type": "code",
   "execution_count": null,
   "metadata": {},
   "outputs": [],
   "source": []
  }
 ],
 "metadata": {
  "kernelspec": {
   "display_name": "Python 3",
   "language": "python",
   "name": "python3"
  },
  "language_info": {
   "codemirror_mode": {
    "name": "ipython",
    "version": 3
   },
   "file_extension": ".py",
   "mimetype": "text/x-python",
   "name": "python",
   "nbconvert_exporter": "python",
   "pygments_lexer": "ipython3",
   "version": "3.7.6"
  }
 },
 "nbformat": 4,
 "nbformat_minor": 4
}
